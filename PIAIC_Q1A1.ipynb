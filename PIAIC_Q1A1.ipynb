{
 "cells": [
  {
   "cell_type": "code",
   "execution_count": null,
   "metadata": {},
   "outputs": [],
   "source": [
    "Name: Syed Mohiuddin Zia\n",
    "Roll Number: AIC025424\n",
    "Teacher Name: Noman Islam\n",
    "Institute Name:Saylani Head Office Campus\n",
    "Timing:Sunday (9AM to 12PM)"
   ]
  },
  {
   "cell_type": "markdown",
   "metadata": {},
   "source": [
    "## 1. Calculate Area of a Circle"
   ]
  },
  {
   "cell_type": "markdown",
   "metadata": {},
   "source": [
    "#### Write a Python program which accepts the radius of a circle from the user and compute the area.\n",
    "###### Program Console Sample Output 1:\n",
    "###### Input Radius: 0.5\n",
    "###### Area of Circle with radius 0.5 is 0.7853981634"
   ]
  },
  {
   "cell_type": "code",
   "execution_count": 2,
   "metadata": {},
   "outputs": [
    {
     "name": "stdout",
     "output_type": "stream",
     "text": [
      "enter the radius of a circle: 0.5\n",
      "area of a circle with radius 0.5 is 0.7857142857\n"
     ]
    }
   ],
   "source": [
    "radius = float(input(\"enter the radius of a circle: \"))\n",
    "\n",
    "print(\"area of a circle with radius\" , radius , \"is\" , round(((22/7)*radius**2),10)) "
   ]
  },
  {
   "cell_type": "code",
   "execution_count": null,
   "metadata": {},
   "outputs": [],
   "source": []
  },
  {
   "cell_type": "code",
   "execution_count": null,
   "metadata": {},
   "outputs": [],
   "source": []
  },
  {
   "cell_type": "markdown",
   "metadata": {},
   "source": [
    "## 2. Check Number either positive, negative or zero"
   ]
  },
  {
   "cell_type": "markdown",
   "metadata": {},
   "source": [
    "#### Write a Python program to check if a number is positive, negative or zero\n",
    "###### Program Console Sample Output 1:\n",
    "###### Enter Number: -1\n",
    "##### Negative Number Entered\n",
    "###### Program Console Sample Output 2:\n",
    "##### Integer: 3\n",
    "##### Positive Number Entered\n",
    "###### Program Console Sample Output 3:\n",
    "##### Integer: 0\n",
    "###### Zero Entered"
   ]
  },
  {
   "cell_type": "code",
   "execution_count": 3,
   "metadata": {},
   "outputs": [
    {
     "name": "stdout",
     "output_type": "stream",
     "text": [
      "enter number: -1\n",
      "negative number entered\n"
     ]
    }
   ],
   "source": [
    "number = int(input(\"enter number: \"))\n",
    "\n",
    "if number < 0:\n",
    "    print(\"negative number entered\")\n",
    "elif number > 0:\n",
    "    print(\"postive number entered\")\n",
    "else:\n",
    "    print(\"zero entered\")"
   ]
  },
  {
   "cell_type": "code",
   "execution_count": 9,
   "metadata": {},
   "outputs": [
    {
     "name": "stdout",
     "output_type": "stream",
     "text": [
      "enter number: 3\n",
      "postive number entered\n"
     ]
    }
   ],
   "source": [
    "number = int(input(\"enter number: \"))\n",
    "\n",
    "if number < 0:\n",
    "    print(\"negative number entered\")\n",
    "elif number > 0:\n",
    "    print(\"postive number entered\")\n",
    "else:\n",
    "    print(\"zero entered\")"
   ]
  },
  {
   "cell_type": "code",
   "execution_count": 10,
   "metadata": {},
   "outputs": [
    {
     "name": "stdout",
     "output_type": "stream",
     "text": [
      "enter number: 0\n",
      "zero entered\n"
     ]
    }
   ],
   "source": [
    "number = int(input(\"enter number: \"))\n",
    "\n",
    "if number < 0:\n",
    "    print(\"negative number entered\")\n",
    "elif number > 0:\n",
    "    print(\"postive number entered\")\n",
    "else:\n",
    "    print(\"zero entered\")"
   ]
  },
  {
   "cell_type": "code",
   "execution_count": null,
   "metadata": {},
   "outputs": [],
   "source": []
  },
  {
   "cell_type": "markdown",
   "metadata": {},
   "source": [
    "## 3. Divisibility Check of two numbers"
   ]
  },
  {
   "cell_type": "markdown",
   "metadata": {},
   "source": [
    "#### Write a Python program to check whether a number is completely divisible by another number. Accept two integer values form the user\n",
    "##### Program Console Sample Output 1:\n",
    "###### Enter numerator: 4\n",
    "###### Enter Denominator: 2\n",
    "##### Number 4 is Completely divisible by 2\n",
    "###### Program Console Sample Output 2:\n",
    "##### Enter numerator: 7\n",
    "\n",
    "##### Enter Denominator: 4\n",
    "###### Number 7 is not Completely divisible by 4"
   ]
  },
  {
   "cell_type": "code",
   "execution_count": 4,
   "metadata": {},
   "outputs": [
    {
     "name": "stdout",
     "output_type": "stream",
     "text": [
      "enter numerator: 4\n",
      "enter denominator: 2\n",
      "number 4 is completely divisible by 2\n"
     ]
    }
   ],
   "source": [
    "numerator = int(input(\"enter numerator: \")) \n",
    "denominator = int(input(\"enter denominator: \"))\n",
    "\n",
    "if (numerator % denominator) == 0:\n",
    "    print(\"number\" , numerator , \"is completely divisible by\" , denominator) \n",
    "else:\n",
    "    print(\"number\" , numerator , \"is not completely divisible by\" , denominator)"
   ]
  },
  {
   "cell_type": "code",
   "execution_count": 11,
   "metadata": {},
   "outputs": [
    {
     "name": "stdout",
     "output_type": "stream",
     "text": [
      "enter numerator: 7\n",
      "enter denominator: 4\n",
      "number 7 is not completely divisible by 4\n"
     ]
    }
   ],
   "source": [
    "numerator = int(input(\"enter numerator: \")) \n",
    "denominator = int(input(\"enter denominator: \"))\n",
    "\n",
    "if (numerator % denominator) == 0:\n",
    "    print(\"number\" , numerator , \"is completely divisible by\" , denominator) \n",
    "else:\n",
    "    print(\"number\" , numerator , \"is not completely divisible by\" , denominator)"
   ]
  },
  {
   "cell_type": "code",
   "execution_count": null,
   "metadata": {},
   "outputs": [],
   "source": []
  },
  {
   "cell_type": "code",
   "execution_count": null,
   "metadata": {},
   "outputs": [],
   "source": []
  },
  {
   "cell_type": "code",
   "execution_count": null,
   "metadata": {},
   "outputs": [],
   "source": []
  },
  {
   "cell_type": "code",
   "execution_count": null,
   "metadata": {},
   "outputs": [],
   "source": []
  },
  {
   "cell_type": "markdown",
   "metadata": {},
   "source": [
    "## 4. Calculate Volume of a sphere"
   ]
  },
  {
   "cell_type": "markdown",
   "metadata": {},
   "source": [
    "##### Write a Python program to get the volume of a sphere, please take the radius as input from user"
   ]
  },
  {
   "cell_type": "markdown",
   "metadata": {},
   "source": [
    "##### Program Console Output:\n",
    "##### Enter Radius of Sphere: 1\n",
    "###### Volume of the Sphere with Radius 1 is 4.18"
   ]
  },
  {
   "cell_type": "code",
   "execution_count": 5,
   "metadata": {},
   "outputs": [
    {
     "name": "stdout",
     "output_type": "stream",
     "text": [
      "enter the radius of the sphere: 1\n",
      "volume of the sphere with radius 1.0 is 4.19\n"
     ]
    }
   ],
   "source": [
    "radius = float(input(\"enter the radius of the sphere: \"))\n",
    "\n",
    "print(\"volume of the sphere with radius\" , radius , \"is\" , round(((1.333)*(22/7)*radius**3),2))"
   ]
  },
  {
   "cell_type": "code",
   "execution_count": null,
   "metadata": {},
   "outputs": [],
   "source": []
  },
  {
   "cell_type": "code",
   "execution_count": null,
   "metadata": {},
   "outputs": [],
   "source": []
  },
  {
   "cell_type": "code",
   "execution_count": null,
   "metadata": {},
   "outputs": [],
   "source": []
  },
  {
   "cell_type": "code",
   "execution_count": null,
   "metadata": {},
   "outputs": [],
   "source": []
  },
  {
   "cell_type": "markdown",
   "metadata": {},
   "source": [
    "## 5. Copy string n times\n",
    "#### Write a Python program to get a string which is n (non-negative integer) copies of a given string.\n",
    "##### Program Console Output:\n",
    "##### Enter String: Hi\n",
    "###### How many copies of String you need: 4\n",
    "###### 4 Copies of Hi are HiHiHiHi"
   ]
  },
  {
   "cell_type": "code",
   "execution_count": 7,
   "metadata": {},
   "outputs": [
    {
     "name": "stdout",
     "output_type": "stream",
     "text": [
      "enter string: Hi\n",
      "how many copies of string you need: 4\n",
      "4 copies of Hi are HiHiHiHi\n"
     ]
    }
   ],
   "source": [
    "string = input(\"enter string: \")\n",
    "n = input(\"how many copies of string you need: \")\n",
    "print(n , \"copies of\", string , \"are\" , string*int(n))"
   ]
  },
  {
   "cell_type": "code",
   "execution_count": null,
   "metadata": {},
   "outputs": [],
   "source": []
  },
  {
   "cell_type": "code",
   "execution_count": null,
   "metadata": {},
   "outputs": [],
   "source": []
  },
  {
   "cell_type": "code",
   "execution_count": null,
   "metadata": {},
   "outputs": [],
   "source": []
  },
  {
   "cell_type": "code",
   "execution_count": null,
   "metadata": {},
   "outputs": [],
   "source": []
  },
  {
   "cell_type": "markdown",
   "metadata": {},
   "source": [
    "## 6. Check if number is Even or Odd\n",
    "### Write a Python program to find whether a given number (accept from the user) is even or odd, print out an appropriate message to the user\n",
    "#### Program Console Output 1:\n",
    "##### Enter Number: 4\n",
    "###### 4 is Even\n",
    "#### Program Console Output 2:\n",
    "##### Enter Number: 9\n",
    "###### 9 is Odd"
   ]
  },
  {
   "cell_type": "code",
   "execution_count": 8,
   "metadata": {},
   "outputs": [
    {
     "name": "stdout",
     "output_type": "stream",
     "text": [
      "enter number: 4\n",
      "4 is even\n"
     ]
    }
   ],
   "source": [
    "number = int(input(\"enter number: \"))\n",
    "\n",
    "if (number % 2) == 0:\n",
    "    print(number , \"is even\")\n",
    "else:\n",
    "    print(number , \"is odd\")"
   ]
  },
  {
   "cell_type": "code",
   "execution_count": 12,
   "metadata": {},
   "outputs": [
    {
     "name": "stdout",
     "output_type": "stream",
     "text": [
      "enter number: 9\n",
      "9 is odd\n"
     ]
    }
   ],
   "source": [
    "number = int(input(\"enter number: \"))\n",
    "\n",
    "if (number % 2) == 0:\n",
    "    print(number , \"is even\")\n",
    "else:\n",
    "    print(number , \"is odd\")"
   ]
  },
  {
   "cell_type": "code",
   "execution_count": null,
   "metadata": {},
   "outputs": [],
   "source": []
  },
  {
   "cell_type": "code",
   "execution_count": null,
   "metadata": {},
   "outputs": [],
   "source": []
  },
  {
   "cell_type": "code",
   "execution_count": null,
   "metadata": {},
   "outputs": [],
   "source": []
  },
  {
   "cell_type": "markdown",
   "metadata": {},
   "source": [
    "## 7. Vowel Tester\n",
    "### Write a Python program to test whether a passed letter is a vowel or not\n",
    "#### Program Console Output 1:\n",
    "##### Enter a character: A\n",
    "###### Letter A is Vowel\n",
    "#### Program Console Output 2:\n",
    "##### Enter a character: e\n",
    "###### Letter e is Vowel\n",
    "#### Program Console Output 2:\n",
    "##### Enter a character: N\n",
    "###### Letter N is not Vowel"
   ]
  },
  {
   "cell_type": "code",
   "execution_count": 13,
   "metadata": {},
   "outputs": [
    {
     "name": "stdout",
     "output_type": "stream",
     "text": [
      "enter a character: A\n",
      "letter A is vowel\n"
     ]
    }
   ],
   "source": [
    "vowel = input(\"enter a character: \")\n",
    "\n",
    "if vowel in ('a' , 'e' ,'i' ,'o' , 'u' , \"A\" , \"E\" , \"I\" , \"O\" , \"U\"):\n",
    "    print(\"letter\" , vowel , \"is vowel\")\n",
    "else:\n",
    "    print(\"letter\" , vowel , \"is not vowel\")"
   ]
  },
  {
   "cell_type": "code",
   "execution_count": 14,
   "metadata": {},
   "outputs": [
    {
     "name": "stdout",
     "output_type": "stream",
     "text": [
      "enter a character: e\n",
      "letter e is vowel\n"
     ]
    }
   ],
   "source": [
    "vowel = input(\"enter a character: \")\n",
    "\n",
    "if vowel in ('a' , 'e' ,'i' ,'o' , 'u' , \"A\" , \"E\" , \"I\" , \"O\" , \"U\"):\n",
    "    print(\"letter\" , vowel , \"is vowel\")\n",
    "else:\n",
    "    print(\"letter\" , vowel , \"is not vowel\")"
   ]
  },
  {
   "cell_type": "code",
   "execution_count": 15,
   "metadata": {},
   "outputs": [
    {
     "name": "stdout",
     "output_type": "stream",
     "text": [
      "enter a character: N\n",
      "letter N is not vowel\n"
     ]
    }
   ],
   "source": [
    "vowel = input(\"enter a character: \")\n",
    "\n",
    "if vowel in ('a' , 'e' ,'i' ,'o' , 'u' , \"A\" , \"E\" , \"I\" , \"O\" , \"U\"):\n",
    "    print(\"letter\" , vowel , \"is vowel\")\n",
    "else:\n",
    "    print(\"letter\" , vowel , \"is not vowel\")"
   ]
  },
  {
   "cell_type": "code",
   "execution_count": null,
   "metadata": {},
   "outputs": [],
   "source": []
  },
  {
   "cell_type": "markdown",
   "metadata": {},
   "source": [
    "## 8. Triangle area\n",
    "### Write a Python program that will accept the base and height of a triangle and compute the area\n",
    "###### Reference:\n",
    "https://www.mathgoodies.com/lessons/vol1/area_triangle"
   ]
  },
  {
   "cell_type": "code",
   "execution_count": 18,
   "metadata": {},
   "outputs": [
    {
     "name": "stdout",
     "output_type": "stream",
     "text": [
      "enter base of a triangle: 10\n",
      "enter height of a triangle: 10\n",
      "area of a triangle is:  50\n"
     ]
    }
   ],
   "source": [
    "base = float(input(\"enter base of a triangle: \"))\n",
    "height = float(input(\"enter height of a triangle: \"))\n",
    "\n",
    "print(\"area of a triangle is: \" , round((1/2)*base*height))"
   ]
  },
  {
   "cell_type": "code",
   "execution_count": null,
   "metadata": {},
   "outputs": [],
   "source": []
  },
  {
   "cell_type": "code",
   "execution_count": null,
   "metadata": {},
   "outputs": [],
   "source": []
  },
  {
   "cell_type": "code",
   "execution_count": null,
   "metadata": {},
   "outputs": [],
   "source": []
  },
  {
   "cell_type": "markdown",
   "metadata": {},
   "source": [
    "## 9. Calculate Interest\n",
    "### Write a Python program to compute the future value of a specified principal amount, rate of interest, and a number of years\n",
    "#### Program Console Sample 1:\n",
    "##### Please enter principal amount: 10000\n",
    "###### Please Enter Rate of interest in %: 0.1\n",
    "###### Enter number of years for investment: 5\n",
    "###### After 5 years your principal amount 10000 over an interest rate of 0.1 % will be 16105.1"
   ]
  },
  {
   "cell_type": "code",
   "execution_count": 21,
   "metadata": {},
   "outputs": [
    {
     "name": "stdout",
     "output_type": "stream",
     "text": [
      "please enter principal amount: 10000\n",
      "please enter rate of interest in %: 0.1\n",
      "enter number of years for investment: 5\n",
      "after 5 years your principal amount 10000 over an interest rate of 0.1  % will be  16105.1\n"
     ]
    }
   ],
   "source": [
    "pAmount = int(input(\"please enter principal amount: \"))\n",
    "iRate = float(input(\"please enter rate of interest in %: \"))\n",
    "nYears = int(input(\"enter number of years for investment: \"))\n",
    "print (\"after\", nYears , \"years your principal amount\" , pAmount , \"over an interest rate of\" , iRate , \" % will be \" , round((pAmount*(1+iRate)**nYears),1))"
   ]
  },
  {
   "cell_type": "code",
   "execution_count": null,
   "metadata": {},
   "outputs": [],
   "source": []
  },
  {
   "cell_type": "code",
   "execution_count": null,
   "metadata": {},
   "outputs": [],
   "source": []
  },
  {
   "cell_type": "code",
   "execution_count": null,
   "metadata": {},
   "outputs": [],
   "source": []
  },
  {
   "cell_type": "code",
   "execution_count": null,
   "metadata": {},
   "outputs": [],
   "source": []
  },
  {
   "cell_type": "code",
   "execution_count": null,
   "metadata": {},
   "outputs": [],
   "source": []
  },
  {
   "cell_type": "markdown",
   "metadata": {},
   "source": [
    "## 10. Euclidean distance\n",
    "### write a Python program to compute the distance between the points (x1, y1) and (x2, y2).\n",
    "#### Program Console Sample 1:\n",
    "###### Enter Co-ordinate for x1: 2\n",
    "###### Enter Co-ordinate for x2: 4\n",
    "###### Enter Co-ordinate for y1: 4\n",
    "###### Enter Co-ordinate for y2: 4\n",
    "###### Distance between points (2, 4) and (4, 4) is 2"
   ]
  },
  {
   "cell_type": "markdown",
   "metadata": {},
   "source": [
    "###### Reference:\n",
    "https://en.wikipedia.org/wiki/Euclidean_distance"
   ]
  },
  {
   "cell_type": "code",
   "execution_count": 22,
   "metadata": {},
   "outputs": [
    {
     "name": "stdout",
     "output_type": "stream",
     "text": [
      "enter co-ordinate for x1: 2\n",
      "enter co-ordinate for x2: 4\n",
      "enter co-ordinate for y1: 4\n",
      "enter co-ordinate for y2: 4\n",
      "distance between points ( 2 , 4 ) and ( 4 , 4 ) is 2\n"
     ]
    }
   ],
   "source": [
    "px1 = int(input(\"enter co-ordinate for x1: \"))\n",
    "px2 = int(input(\"enter co-ordinate for x2: \"))\n",
    "py1 = int(input(\"enter co-ordinate for y1: \"))\n",
    "py2 = int(input(\"enter co-ordinate for y2: \"))\n",
    "\n",
    "result = (((py1-px1)**2) + ((py2-px2)**2))**(1/2)\n",
    "\n",
    "print(\"distance between points (\", px1 , \",\" , py1 ,\") and (\", px2 , \",\" , py2 ,\") is\" , round(result))"
   ]
  },
  {
   "cell_type": "code",
   "execution_count": null,
   "metadata": {},
   "outputs": [],
   "source": []
  },
  {
   "cell_type": "code",
   "execution_count": null,
   "metadata": {},
   "outputs": [],
   "source": []
  },
  {
   "cell_type": "code",
   "execution_count": null,
   "metadata": {},
   "outputs": [],
   "source": []
  },
  {
   "cell_type": "markdown",
   "metadata": {},
   "source": [
    "## 11. Feet to Centimeter Converter\n",
    "### Write a Python program to convert height in feet to centimetres.\n",
    "##### Program Console Sample 1:\n",
    "###### Enter Height in Feet: 5\n",
    "###### There are 152.4 Cm in 5 ft\n",
    "###### Reference:\n",
    "https://www.rapidtables.com/convert/length/feet-to-cm.html"
   ]
  },
  {
   "cell_type": "code",
   "execution_count": 23,
   "metadata": {},
   "outputs": [
    {
     "name": "stdout",
     "output_type": "stream",
     "text": [
      "enter height in feet: 5\n",
      "there are 152.4 cm in 5 ft\n"
     ]
    }
   ],
   "source": [
    "height = int(input(\"enter height in feet: \"))\n",
    "\n",
    "print(\"there are\" , height*30.48 , \"cm in\" , height , \"ft\")"
   ]
  },
  {
   "cell_type": "code",
   "execution_count": null,
   "metadata": {},
   "outputs": [],
   "source": []
  },
  {
   "cell_type": "code",
   "execution_count": null,
   "metadata": {},
   "outputs": [],
   "source": []
  },
  {
   "cell_type": "code",
   "execution_count": null,
   "metadata": {},
   "outputs": [],
   "source": []
  },
  {
   "cell_type": "markdown",
   "metadata": {},
   "source": [
    "## 12. BMI Calculator\n",
    "### Write a Python program to calculate body mass index\n",
    "##### Program Console Sample 1:\n",
    "###### Enter Height in Cm: 180\n",
    "###### Enter Weight in Kg: 75\n",
    "###### Your BMI is 23.15"
   ]
  },
  {
   "cell_type": "code",
   "execution_count": 24,
   "metadata": {},
   "outputs": [
    {
     "name": "stdout",
     "output_type": "stream",
     "text": [
      "enter height in cm: 180\n",
      "enter weight in kg: 75\n",
      "your bmi is 23.15\n"
     ]
    }
   ],
   "source": [
    "height = int(input(\"enter height in cm: \"))\n",
    "weight = int(input(\"enter weight in kg: \"))\n",
    "\n",
    "print(\"your bmi is\" , round((weight/(height*height/10000)),2))"
   ]
  },
  {
   "cell_type": "code",
   "execution_count": null,
   "metadata": {},
   "outputs": [],
   "source": []
  },
  {
   "cell_type": "code",
   "execution_count": null,
   "metadata": {},
   "outputs": [],
   "source": []
  },
  {
   "cell_type": "markdown",
   "metadata": {},
   "source": [
    "## 13. Sum of n Positive Integers\n",
    "### Write a python program to sum of the first n positive integers\n",
    "#### Program Console Sample 1:\n",
    "###### Enter value of n: 5\n",
    "###### Sum of n Positive integers till 5 is 15"
   ]
  },
  {
   "cell_type": "code",
   "execution_count": 28,
   "metadata": {},
   "outputs": [
    {
     "name": "stdout",
     "output_type": "stream",
     "text": [
      "enter value of n: 5\n",
      "sum of n positive integers till 5 is 15\n"
     ]
    }
   ],
   "source": [
    "number = int(input(\"enter value of n: \"))\n",
    "sumNumber = number\n",
    "num = number\n",
    "\n",
    "if number <= 0:\n",
    "    print(\"not a positive integer\")\n",
    "else:\n",
    "    while num > 0:\n",
    "        num = num - 1\n",
    "        sumNumber = sumNumber + num\n",
    "        #print(\"number:\",num,\"sumNumber:\",sumNumber)\n",
    "    print(\"sum of n positive integers till\" , number , \"is\" , sumNumber )"
   ]
  },
  {
   "cell_type": "code",
   "execution_count": null,
   "metadata": {},
   "outputs": [],
   "source": []
  },
  {
   "cell_type": "code",
   "execution_count": null,
   "metadata": {},
   "outputs": [],
   "source": []
  },
  {
   "cell_type": "markdown",
   "metadata": {},
   "source": [
    "## 14. Digits Sum of a Number\n",
    "### Write a Python program to calculate the sum of the digits in an integer\n",
    "#### Program Console Sample 1:\n",
    "##### Enter a number: 15\n",
    "###### Sum of 1 + 5 is 6\n",
    "#### Program Console Sample 2:\n",
    "##### Enter a number: 1234\n",
    "###### Sum of 1 + 2 + 3 + 4 is 10"
   ]
  },
  {
   "cell_type": "code",
   "execution_count": 29,
   "metadata": {},
   "outputs": [
    {
     "name": "stdout",
     "output_type": "stream",
     "text": [
      "enter a number: 1234\n",
      "sum of 1 + 2 + 3 + 4 is 10\n"
     ]
    }
   ],
   "source": [
    "number = input(\"enter a number: \")\n",
    "sum = 0\n",
    "counter = 1\n",
    "print(\"sum of\", end=\"\")\n",
    "for i in number:\n",
    "    if len(number) > counter:\n",
    "        sum = sum + int(i)\n",
    "        print(\"\" , i , \"+\" , end=\"\")\n",
    "        counter +=1\n",
    "    else:\n",
    "        sum = sum + int(i)\n",
    "        print(\"\" , i , end=\"\")\n",
    "        counter +=1 \n",
    "print(\" is\",sum)"
   ]
  },
  {
   "cell_type": "code",
   "execution_count": null,
   "metadata": {},
   "outputs": [],
   "source": []
  },
  {
   "cell_type": "code",
   "execution_count": null,
   "metadata": {},
   "outputs": [],
   "source": []
  },
  {
   "cell_type": "code",
   "execution_count": null,
   "metadata": {},
   "outputs": [],
   "source": []
  },
  {
   "cell_type": "code",
   "execution_count": null,
   "metadata": {},
   "outputs": [],
   "source": []
  },
  {
   "cell_type": "code",
   "execution_count": null,
   "metadata": {},
   "outputs": [],
   "source": []
  },
  {
   "cell_type": "code",
   "execution_count": null,
   "metadata": {},
   "outputs": [],
   "source": []
  },
  {
   "cell_type": "code",
   "execution_count": null,
   "metadata": {},
   "outputs": [],
   "source": []
  }
 ],
 "metadata": {
  "kernelspec": {
   "display_name": "Python 3",
   "language": "python",
   "name": "python3"
  },
  "language_info": {
   "codemirror_mode": {
    "name": "ipython",
    "version": 3
   },
   "file_extension": ".py",
   "mimetype": "text/x-python",
   "name": "python",
   "nbconvert_exporter": "python",
   "pygments_lexer": "ipython3",
   "version": "3.7.3"
  }
 },
 "nbformat": 4,
 "nbformat_minor": 2
}
